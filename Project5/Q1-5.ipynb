{
 "cells": [
  {
   "cell_type": "code",
   "execution_count": 2,
   "metadata": {},
   "outputs": [
    {
     "name": "stderr",
     "output_type": "stream",
     "text": [
      "Warning message:\n",
      "\"package 'igraph' was built under R version 3.4.4\"\n",
      "Attaching package: 'igraph'\n",
      "\n",
      "The following objects are masked from 'package:stats':\n",
      "\n",
      "    decompose, spectrum\n",
      "\n",
      "The following object is masked from 'package:base':\n",
      "\n",
      "    union\n",
      "\n"
     ]
    }
   ],
   "source": [
    "library('igraph')"
   ]
  },
  {
   "cell_type": "code",
   "execution_count": 7,
   "metadata": {},
   "outputs": [
    {
     "data": {
      "text/html": [
       "<table>\n",
       "<thead><tr><th scope=col>Symbol</th><th scope=col>Sector</th></tr></thead>\n",
       "<tbody>\n",
       "\t<tr><td>A                     </td><td>Health Care           </td></tr>\n",
       "\t<tr><td>AAL                   </td><td>Industrials           </td></tr>\n",
       "\t<tr><td>AAP                   </td><td>Consumer Discretionary</td></tr>\n",
       "\t<tr><td>AAPL                  </td><td>Information Technology</td></tr>\n",
       "\t<tr><td>ABBV                  </td><td>Health Care           </td></tr>\n",
       "\t<tr><td>ABC                   </td><td>Health Care           </td></tr>\n",
       "</tbody>\n",
       "</table>\n"
      ],
      "text/latex": [
       "\\begin{tabular}{r|ll}\n",
       " Symbol & Sector\\\\\n",
       "\\hline\n",
       "\t A                      & Health Care           \\\\\n",
       "\t AAL                    & Industrials           \\\\\n",
       "\t AAP                    & Consumer Discretionary\\\\\n",
       "\t AAPL                   & Information Technology\\\\\n",
       "\t ABBV                   & Health Care           \\\\\n",
       "\t ABC                    & Health Care           \\\\\n",
       "\\end{tabular}\n"
      ],
      "text/markdown": [
       "\n",
       "Symbol | Sector | \n",
       "|---|---|---|---|---|---|\n",
       "| A                      | Health Care            | \n",
       "| AAL                    | Industrials            | \n",
       "| AAP                    | Consumer Discretionary | \n",
       "| AAPL                   | Information Technology | \n",
       "| ABBV                   | Health Care            | \n",
       "| ABC                    | Health Care            | \n",
       "\n",
       "\n"
      ],
      "text/plain": [
       "  Symbol Sector                \n",
       "1 A      Health Care           \n",
       "2 AAL    Industrials           \n",
       "3 AAP    Consumer Discretionary\n",
       "4 AAPL   Information Technology\n",
       "5 ABBV   Health Care           \n",
       "6 ABC    Health Care           "
      ]
     },
     "metadata": {},
     "output_type": "display_data"
    }
   ],
   "source": [
    "allcomp = read.csv(\"name_sector.csv\",header=TRUE,stringsAsFactors=FALSE)\n",
    "\n",
    "head(allcomp)"
   ]
  },
  {
   "cell_type": "code",
   "execution_count": 8,
   "metadata": {},
   "outputs": [
    {
     "data": {
      "text/html": [
       "<ol class=list-inline>\n",
       "\t<li>505</li>\n",
       "\t<li>2</li>\n",
       "</ol>\n"
      ],
      "text/latex": [
       "\\begin{enumerate*}\n",
       "\\item 505\n",
       "\\item 2\n",
       "\\end{enumerate*}\n"
      ],
      "text/markdown": [
       "1. 505\n",
       "2. 2\n",
       "\n",
       "\n"
      ],
      "text/plain": [
       "[1] 505   2"
      ]
     },
     "metadata": {},
     "output_type": "display_data"
    },
    {
     "data": {
      "text/html": [
       "<ol class=list-inline>\n",
       "\t<li>'Symbol'</li>\n",
       "\t<li>'Sector'</li>\n",
       "</ol>\n"
      ],
      "text/latex": [
       "\\begin{enumerate*}\n",
       "\\item 'Symbol'\n",
       "\\item 'Sector'\n",
       "\\end{enumerate*}\n"
      ],
      "text/markdown": [
       "1. 'Symbol'\n",
       "2. 'Sector'\n",
       "\n",
       "\n"
      ],
      "text/plain": [
       "[1] \"Symbol\" \"Sector\""
      ]
     },
     "metadata": {},
     "output_type": "display_data"
    },
    {
     "data": {
      "text/html": [
       "'AAL'"
      ],
      "text/latex": [
       "'AAL'"
      ],
      "text/markdown": [
       "'AAL'"
      ],
      "text/plain": [
       "[1] \"AAL\""
      ]
     },
     "metadata": {},
     "output_type": "display_data"
    }
   ],
   "source": [
    "dim(allcomp)\n",
    "colnames(allcomp)\n",
    "allcomp[2,1]"
   ]
  },
  {
   "cell_type": "code",
   "execution_count": 10,
   "metadata": {
    "collapsed": true
   },
   "outputs": [],
   "source": [
    "filenames <- list.files(\"data\", pattern=\"*.csv\")\n",
    "filenames = paste(\"data\", filenames, sep=\"/\")"
   ]
  },
  {
   "cell_type": "code",
   "execution_count": 11,
   "metadata": {},
   "outputs": [
    {
     "data": {
      "text/html": [
       "505"
      ],
      "text/latex": [
       "505"
      ],
      "text/markdown": [
       "505"
      ],
      "text/plain": [
       "[1] 505"
      ]
     },
     "metadata": {},
     "output_type": "display_data"
    }
   ],
   "source": [
    "length(filenames)"
   ]
  },
  {
   "cell_type": "code",
   "execution_count": 12,
   "metadata": {
    "collapsed": true
   },
   "outputs": [],
   "source": [
    "L=c()\n",
    "k=1\n",
    "mat = matrix(0,length(filenames)-11,764)\n",
    "for(j in c(1:length(filenames))){\n",
    "    df = read.csv(filenames[j],header=TRUE, stringsAsFactors=FALSE)\n",
    "    L[j] = dim(df)[1]\n",
    "    if(L[j]==765){\n",
    "        p = df[,5] \n",
    "        q = c()\n",
    "        r = c()\n",
    "        for(i in c(2:length(p))){\n",
    "            q[i-1] = (p[i]-p[i-1])/p[i-1]\n",
    "        }\n",
    "        r = log(1+q)\n",
    "        mat[k,] = r\n",
    "        k = k+1\n",
    "    }\n",
    "}"
   ]
  },
  {
   "cell_type": "code",
   "execution_count": 13,
   "metadata": {},
   "outputs": [
    {
     "data": {
      "text/html": [
       "<ol class=list-inline>\n",
       "\t<li>494</li>\n",
       "\t<li>3</li>\n",
       "</ol>\n"
      ],
      "text/latex": [
       "\\begin{enumerate*}\n",
       "\\item 494\n",
       "\\item 3\n",
       "\\end{enumerate*}\n"
      ],
      "text/markdown": [
       "1. 494\n",
       "2. 3\n",
       "\n",
       "\n"
      ],
      "text/plain": [
       "[1] 494   3"
      ]
     },
     "metadata": {},
     "output_type": "display_data"
    }
   ],
   "source": [
    "allcomp[\"length\"] = L\n",
    "ind = which(L!=765)\n",
    "\n",
    "allcomp <- allcomp[-ind,]\n",
    "\n",
    "dim(allcomp)"
   ]
  },
  {
   "cell_type": "code",
   "execution_count": 25,
   "metadata": {
    "collapsed": true
   },
   "outputs": [],
   "source": [
    "getedgelist<- function(conn,mat,allcomp){\n",
    "    numCom = dim(mat)[1]\n",
    "    cat(\"from\",\"\\t\",\"to\",\"\\t\",\"wt\",file=conn)\n",
    "    for(i in c(1:(numCom-1))){\n",
    "        for(j in c((i+1):numCom)){\n",
    "            ri = mean(mat[i,])\n",
    "            rj = mean(mat[j,])\n",
    "            mult = mean(mat[i,]*mat[j,])\n",
    "            num = mult-(ri*rj)\n",
    "            ri2 = mat[i,]^2\n",
    "            rj2 = mat[j,]^2\n",
    "            den = sqrt((mean(ri2)-(ri^2))*(mean(rj2)-(rj^2)))\n",
    "            pij = num/den\n",
    "            wij = sqrt(2*(1-pij))\n",
    "            cat('\\n',allcomp[i,1],'\\t',allcomp[j,1],'\\t',wij,file=conn)\n",
    "        }\n",
    "    }\n",
    "}"
   ]
  },
  {
   "cell_type": "code",
   "execution_count": 12,
   "metadata": {
    "collapsed": true
   },
   "outputs": [],
   "source": [
    "conn <- file(\"edgelist.txt\", \"w\")\n",
    "getedgelist(conn,mat,allcomp)\n",
    "close(conn)"
   ]
  },
  {
   "cell_type": "code",
   "execution_count": 3,
   "metadata": {
    "collapsed": true,
    "scrolled": true
   },
   "outputs": [],
   "source": [
    "elist <-read.delim(\"edgelist.txt\",header=TRUE)\n",
    "g <- graph.data.frame(elist, directed = FALSE)\n",
    "E(g)$weight <- elist[,\"wt\"]"
   ]
  },
  {
   "cell_type": "code",
   "execution_count": 14,
   "metadata": {},
   "outputs": [
    {
     "data": {
      "text/html": [
       "<table>\n",
       "<thead><tr><th scope=col>from</th><th scope=col>to</th><th scope=col>wt</th></tr></thead>\n",
       "<tbody>\n",
       "\t<tr><td> A      </td><td> AAL    </td><td>1.189554</td></tr>\n",
       "\t<tr><td> A      </td><td> AAP    </td><td>1.269710</td></tr>\n",
       "\t<tr><td> A      </td><td> AAPL   </td><td>1.373192</td></tr>\n",
       "\t<tr><td> A      </td><td> ABBV   </td><td>1.129386</td></tr>\n",
       "\t<tr><td> A      </td><td> ABC    </td><td>1.248807</td></tr>\n",
       "\t<tr><td> A      </td><td> ABT    </td><td>1.021796</td></tr>\n",
       "</tbody>\n",
       "</table>\n"
      ],
      "text/latex": [
       "\\begin{tabular}{r|lll}\n",
       " from & to & wt\\\\\n",
       "\\hline\n",
       "\t  A       &  AAL     & 1.189554\\\\\n",
       "\t  A       &  AAP     & 1.269710\\\\\n",
       "\t  A       &  AAPL    & 1.373192\\\\\n",
       "\t  A       &  ABBV    & 1.129386\\\\\n",
       "\t  A       &  ABC     & 1.248807\\\\\n",
       "\t  A       &  ABT     & 1.021796\\\\\n",
       "\\end{tabular}\n"
      ],
      "text/markdown": [
       "\n",
       "from | to | wt | \n",
       "|---|---|---|---|---|---|\n",
       "|  A       |  AAL     | 1.189554 | \n",
       "|  A       |  AAP     | 1.269710 | \n",
       "|  A       |  AAPL    | 1.373192 | \n",
       "|  A       |  ABBV    | 1.129386 | \n",
       "|  A       |  ABC     | 1.248807 | \n",
       "|  A       |  ABT     | 1.021796 | \n",
       "\n",
       "\n"
      ],
      "text/plain": [
       "  from to     wt      \n",
       "1  A    AAL   1.189554\n",
       "2  A    AAP   1.269710\n",
       "3  A    AAPL  1.373192\n",
       "4  A    ABBV  1.129386\n",
       "5  A    ABC   1.248807\n",
       "6  A    ABT   1.021796"
      ]
     },
     "metadata": {},
     "output_type": "display_data"
    }
   ],
   "source": [
    "head(elist)"
   ]
  },
  {
   "cell_type": "code",
   "execution_count": 45,
   "metadata": {},
   "outputs": [
    {
     "data": {
      "image/png": "[encoded data removed]",
      "text/plain": [
       "Plot with title \"Degree Distribution of correlation graph\""
      ]
     },
     "metadata": {},
     "output_type": "display_data"
    }
   ],
   "source": [
    "hist(degree.distribution(g),pch=15,col=\"red\",main=\"Degree Distribution of correlation graph\",\n",
    "    ylab=\"Degree\",xlab=\"Frequency\")"
   ]
  },
  {
   "cell_type": "code",
   "execution_count": 35,
   "metadata": {},
   "outputs": [
    {
     "data": {
      "image/png": "[encoded data removed]",
      "text/plain": [
       "Plot with title \"Un-normalized distribution of edge weights\""
      ]
     },
     "metadata": {},
     "output_type": "display_data"
    }
   ],
   "source": [
    "hist(elist[,\"wt\"],col=\"blue\",main=\"Un-normalized distribution of edge weights\",xlab=\"Edge Weights\",ylab=\"Frequency\")"
   ]
  },
  {
   "cell_type": "code",
   "execution_count": 4,
   "metadata": {},
   "outputs": [
    {
     "data": {
      "text/plain": [
       "IGRAPH ecb3aca UNW- 494 493 -- \n",
       "+ attr: name (v/c), wt (e/n), weight (e/n)\n",
       "+ edges from ecb3aca (vertex names):\n",
       " [1]  A    -- TMO    AAL  -- DAL    AAP  -- ORLY   AAPL -- UNP    ABBV -- AMGN \n",
       " [6]  ABC  -- CAH    ABT  -- HOLX   ABT  -- MDT    ABT  -- TMO    ABT  -- VAR  \n",
       "[11]  ACN  -- CTSH   ACN  -- FISV   ACN  -- ORCL   ACN  -- RHT    ADBE -- CRM  \n",
       "[16]  ADBE -- INTU   ADI  -- TXN    ADI  -- XLNX   ADM  -- PFG    ADP  -- PAYX \n",
       "[21]  ADS  -- DFS    ADSK -- MCO    AEE  -- XEL    AEP  -- DUK    AEP  -- ETR  \n",
       "[26]  AEP  -- FE     AEP  -- PPL    AEP  -- XEL    AES  -- CNP    AES  -- NRG  \n",
       "[31]  AET  -- ANTM   AET  -- CNC    AET  -- HUM    AET  -- UNH    AFL  -- PRU  \n",
       "[36]  AGN  -- AMGN   AGN  -- MYL    AIG  -- JPM    AIV  -- REG    AIV  -- UDR  \n",
       "+ ... omitted several edges"
      ]
     },
     "metadata": {},
     "output_type": "display_data"
    }
   ],
   "source": [
    "mst = mst(g,algorithm=\"prim\")\n",
    "mst"
   ]
  },
  {
   "cell_type": "code",
   "execution_count": 18,
   "metadata": {},
   "outputs": [
    {
     "data": {
      "text/html": [
       "493"
      ],
      "text/latex": [
       "493"
      ],
      "text/markdown": [
       "493"
      ],
      "text/plain": [
       "[1] 493"
      ]
     },
     "metadata": {},
     "output_type": "display_data"
    },
    {
     "data": {
      "text/html": [
       "494"
      ],
      "text/latex": [
       "494"
      ],
      "text/markdown": [
       "494"
      ],
      "text/plain": [
       "[1] 494"
      ]
     },
     "metadata": {},
     "output_type": "display_data"
    },
    {
     "data": {
      "text/html": [
       "<ol class=list-inline>\n",
       "\t<li>'Health Care'</li>\n",
       "\t<li>'Industrials'</li>\n",
       "\t<li>'Consumer Discretionary'</li>\n",
       "\t<li>'Information Technology'</li>\n",
       "\t<li>'Consumer Staples'</li>\n",
       "\t<li>'Utilities'</li>\n",
       "\t<li>'Financials'</li>\n",
       "\t<li>'Real Estate'</li>\n",
       "\t<li>'Materials'</li>\n",
       "\t<li>'Energy'</li>\n",
       "\t<li>'Telecommunication Services'</li>\n",
       "</ol>\n"
      ],
      "text/latex": [
       "\\begin{enumerate*}\n",
       "\\item 'Health Care'\n",
       "\\item 'Industrials'\n",
       "\\item 'Consumer Discretionary'\n",
       "\\item 'Information Technology'\n",
       "\\item 'Consumer Staples'\n",
       "\\item 'Utilities'\n",
       "\\item 'Financials'\n",
       "\\item 'Real Estate'\n",
       "\\item 'Materials'\n",
       "\\item 'Energy'\n",
       "\\item 'Telecommunication Services'\n",
       "\\end{enumerate*}\n"
      ],
      "text/markdown": [
       "1. 'Health Care'\n",
       "2. 'Industrials'\n",
       "3. 'Consumer Discretionary'\n",
       "4. 'Information Technology'\n",
       "5. 'Consumer Staples'\n",
       "6. 'Utilities'\n",
       "7. 'Financials'\n",
       "8. 'Real Estate'\n",
       "9. 'Materials'\n",
       "10. 'Energy'\n",
       "11. 'Telecommunication Services'\n",
       "\n",
       "\n"
      ],
      "text/plain": [
       " [1] \"Health Care\"                \"Industrials\"               \n",
       " [3] \"Consumer Discretionary\"     \"Information Technology\"    \n",
       " [5] \"Consumer Staples\"           \"Utilities\"                 \n",
       " [7] \"Financials\"                 \"Real Estate\"               \n",
       " [9] \"Materials\"                  \"Energy\"                    \n",
       "[11] \"Telecommunication Services\""
      ]
     },
     "metadata": {},
     "output_type": "display_data"
    },
    {
     "data": {
      "text/html": [
       "<table>\n",
       "<thead><tr><th></th><th scope=col>Symbol</th><th scope=col>Sector</th><th scope=col>length</th></tr></thead>\n",
       "<tbody>\n",
       "\t<tr><th scope=row>501</th><td>YHOO                  </td><td>Information Technology</td><td>765                   </td></tr>\n",
       "</tbody>\n",
       "</table>\n"
      ],
      "text/latex": [
       "\\begin{tabular}{r|lll}\n",
       "  & Symbol & Sector & length\\\\\n",
       "\\hline\n",
       "\t501 & YHOO                   & Information Technology & 765                   \\\\\n",
       "\\end{tabular}\n"
      ],
      "text/markdown": [
       "\n",
       "| <!--/--> | Symbol | Sector | length | \n",
       "|---|\n",
       "| 501 | YHOO                   | Information Technology | 765                    | \n",
       "\n",
       "\n"
      ],
      "text/plain": [
       "    Symbol Sector                 length\n",
       "501 YHOO   Information Technology 765   "
      ]
     },
     "metadata": {},
     "output_type": "display_data"
    },
    {
     "data": {
      "text/plain": [
       "+ 1/494 vertex, named, from 6fdb93d:\n",
       "[1]  YHOO "
      ]
     },
     "metadata": {},
     "output_type": "display_data"
    }
   ],
   "source": [
    "ecount(mst)\n",
    "vcount(mst)\n",
    "allsectors = unique(allcomp[,2])\n",
    "allsectors\n",
    "allcomp[490,]\n",
    "V(g)[490]"
   ]
  },
  {
   "cell_type": "code",
   "execution_count": 14,
   "metadata": {},
   "outputs": [],
   "source": [
    "allsectors = unique(allcomp[,2])\n",
    "\n",
    "colorcode<-function(allsect,sector){\n",
    "    i = which(allsect==sector)\n",
    "    color = switch(i,\"red\",\"green\",\"blue\",\"yellow\",\"grey\",\"black\",\"pink\",\"orange\",\"yellowgreen\",\"skyblue\",\"peachpuff\")\n",
    "    return(color)\n",
    "}"
   ]
  },
  {
   "cell_type": "code",
   "execution_count": 15,
   "metadata": {
    "collapsed": true
   },
   "outputs": [],
   "source": [
    "getcolorvector <- function(g,allsect,allcomp){\n",
    "    colors = c()\n",
    "    for(v in c(1:vcount(g))){\n",
    "        sector = allcomp[v,2]\n",
    "        colors[v] = colorcode(allsect,sector)\n",
    "    }\n",
    "    return(colors)\n",
    "}\n"
   ]
  },
  {
   "cell_type": "code",
   "execution_count": 21,
   "metadata": {},
   "outputs": [
    {
     "data": {
      "image/png": "[encoded data removed]",
      "text/plain": [
       "Plot with title \"\""
      ]
     },
     "metadata": {},
     "output_type": "display_data"
    }
   ],
   "source": [
    "colors = getcolorvector(g,allsectors,allcomp)\n",
    "plot(mst,vertex.size=5, vertex.label=NA, vertex.color=colors)"
   ]
  },
  {
   "cell_type": "code",
   "execution_count": 20,
   "metadata": {},
   "outputs": [
    {
     "data": {
      "image/png": "[encoded data removed]",
      "text/plain": [
       "Plot with title \"\""
      ]
     },
     "metadata": {},
     "output_type": "display_data"
    }
   ],
   "source": [
    "colors = getcolorvector(g,allsectors,allcomp)\n",
    "plot(mst,vertex.size=5, vertex.label=NA, vertex.color=colors, layout=layout.reingold.tilford(mst,circular=T))"
   ]
  },
  {
   "cell_type": "code",
   "execution_count": 23,
   "metadata": {},
   "outputs": [
    {
     "data": {
      "text/html": [
       "<ol class=list-inline>\n",
       "\t<li>60</li>\n",
       "\t<li>64</li>\n",
       "\t<li>84</li>\n",
       "\t<li>66</li>\n",
       "\t<li>36</li>\n",
       "\t<li>28</li>\n",
       "\t<li>63</li>\n",
       "\t<li>31</li>\n",
       "\t<li>24</li>\n",
       "\t<li>34</li>\n",
       "\t<li>4</li>\n",
       "</ol>\n"
      ],
      "text/latex": [
       "\\begin{enumerate*}\n",
       "\\item 60\n",
       "\\item 64\n",
       "\\item 84\n",
       "\\item 66\n",
       "\\item 36\n",
       "\\item 28\n",
       "\\item 63\n",
       "\\item 31\n",
       "\\item 24\n",
       "\\item 34\n",
       "\\item 4\n",
       "\\end{enumerate*}\n"
      ],
      "text/markdown": [
       "1. 60\n",
       "2. 64\n",
       "3. 84\n",
       "4. 66\n",
       "5. 36\n",
       "6. 28\n",
       "7. 63\n",
       "8. 31\n",
       "9. 24\n",
       "10. 34\n",
       "11. 4\n",
       "\n",
       "\n"
      ],
      "text/plain": [
       " [1] 60 64 84 66 36 28 63 31 24 34  4"
      ]
     },
     "metadata": {},
     "output_type": "display_data"
    }
   ],
   "source": [
    "counts = c()\n",
    "for(i in c(1:length(allsectors))){\n",
    "    counts[i] = length(which(allcomp[,2]==allsectors[i]))\n",
    "}\n",
    "\n",
    "counts"
   ]
  },
  {
   "cell_type": "code",
   "execution_count": 24,
   "metadata": {},
   "outputs": [
    {
     "data": {
      "text/html": [
       "0.828930077530676"
      ],
      "text/latex": [
       "0.828930077530676"
      ],
      "text/markdown": [
       "0.828930077530676"
      ],
      "text/plain": [
       "[1] 0.8289301"
      ]
     },
     "metadata": {},
     "output_type": "display_data"
    },
    {
     "data": {
      "text/html": [
       "0.114188070612533"
      ],
      "text/latex": [
       "0.114188070612533"
      ],
      "text/markdown": [
       "0.114188070612533"
      ],
      "text/plain": [
       "[1] 0.1141881"
      ]
     },
     "metadata": {},
     "output_type": "display_data"
    }
   ],
   "source": [
    "p1 = c()\n",
    "p2 = c()\n",
    "for(v in c(1:vcount(mst))){\n",
    "    neigh = neighbors(mst,v)\n",
    "    Ni = length(neigh)\n",
    "    Qi=0\n",
    "    for(i in neigh){\n",
    "        if(allcomp[i,2]==allcomp[v,2])\n",
    "            Qi=Qi+1\n",
    "    }\n",
    "    p1[v] = Qi/Ni\n",
    "    p2[v] = counts[which(allsectors==allcomp[v,2])]/vcount(mst)\n",
    "}\n",
    "alpha1 = sum(p1)/vcount(mst)\n",
    "alpha1\n",
    "alpha2 = sum(p2)/vcount(mst)\n",
    "alpha2"
   ]
  },
  {
   "cell_type": "markdown",
   "metadata": {},
   "source": [
    "Weekly Correlation"
   ]
  },
  {
   "cell_type": "code",
   "execution_count": 118,
   "metadata": {
    "collapsed": true
   },
   "outputs": [],
   "source": [
    "#Q5\n",
    "\n",
    "df[\"Day\"]<-weekdays(as.Date(df[,1])) \n"
   ]
  },
  {
   "cell_type": "code",
   "execution_count": 119,
   "metadata": {},
   "outputs": [
    {
     "data": {
      "text/html": [
       "<table>\n",
       "<thead><tr><th scope=col>Date</th><th scope=col>Open</th><th scope=col>High</th><th scope=col>Low</th><th scope=col>Close</th><th scope=col>Volume</th><th scope=col>Adj.Close</th><th scope=col>day</th><th scope=col>Day</th></tr></thead>\n",
       "<tbody>\n",
       "\t<tr><td>2014-05-01</td><td>30.31     </td><td>30.53     </td><td>30.18     </td><td>30.31     </td><td>3207000   </td><td>29.60156  </td><td>Thursday  </td><td>Thursday  </td></tr>\n",
       "\t<tr><td>2014-05-02</td><td>30.32     </td><td>30.75     </td><td>30.30     </td><td>30.64     </td><td>3042100   </td><td>29.92384  </td><td>Friday    </td><td>Friday    </td></tr>\n",
       "\t<tr><td>2014-05-05</td><td>30.42     </td><td>30.63     </td><td>30.11     </td><td>30.53     </td><td>4425200   </td><td>29.81641  </td><td>Monday    </td><td>Monday    </td></tr>\n",
       "\t<tr><td>2014-05-06</td><td>29.85     </td><td>31.39     </td><td>29.56     </td><td>30.89     </td><td>6532400   </td><td>30.16800  </td><td>Tuesday   </td><td>Tuesday   </td></tr>\n",
       "\t<tr><td>2014-05-07</td><td>30.10     </td><td>30.74     </td><td>30.00     </td><td>30.65     </td><td>6810600   </td><td>29.93361  </td><td>Wednesday </td><td>Wednesday </td></tr>\n",
       "\t<tr><td>2014-05-08</td><td>30.55     </td><td>30.81     </td><td>30.41     </td><td>30.48     </td><td>2687200   </td><td>29.76758  </td><td>Thursday  </td><td>Thursday  </td></tr>\n",
       "</tbody>\n",
       "</table>\n"
      ],
      "text/latex": [
       "\\begin{tabular}{r|lllllllll}\n",
       " Date & Open & High & Low & Close & Volume & Adj.Close & day & Day\\\\\n",
       "\\hline\n",
       "\t 2014-05-01 & 30.31      & 30.53      & 30.18      & 30.31      & 3207000    & 29.60156   & Thursday   & Thursday  \\\\\n",
       "\t 2014-05-02 & 30.32      & 30.75      & 30.30      & 30.64      & 3042100    & 29.92384   & Friday     & Friday    \\\\\n",
       "\t 2014-05-05 & 30.42      & 30.63      & 30.11      & 30.53      & 4425200    & 29.81641   & Monday     & Monday    \\\\\n",
       "\t 2014-05-06 & 29.85      & 31.39      & 29.56      & 30.89      & 6532400    & 30.16800   & Tuesday    & Tuesday   \\\\\n",
       "\t 2014-05-07 & 30.10      & 30.74      & 30.00      & 30.65      & 6810600    & 29.93361   & Wednesday  & Wednesday \\\\\n",
       "\t 2014-05-08 & 30.55      & 30.81      & 30.41      & 30.48      & 2687200    & 29.76758   & Thursday   & Thursday  \\\\\n",
       "\\end{tabular}\n"
      ],
      "text/markdown": [
       "\n",
       "Date | Open | High | Low | Close | Volume | Adj.Close | day | Day | \n",
       "|---|---|---|---|---|---|\n",
       "| 2014-05-01 | 30.31      | 30.53      | 30.18      | 30.31      | 3207000    | 29.60156   | Thursday   | Thursday   | \n",
       "| 2014-05-02 | 30.32      | 30.75      | 30.30      | 30.64      | 3042100    | 29.92384   | Friday     | Friday     | \n",
       "| 2014-05-05 | 30.42      | 30.63      | 30.11      | 30.53      | 4425200    | 29.81641   | Monday     | Monday     | \n",
       "| 2014-05-06 | 29.85      | 31.39      | 29.56      | 30.89      | 6532400    | 30.16800   | Tuesday    | Tuesday    | \n",
       "| 2014-05-07 | 30.10      | 30.74      | 30.00      | 30.65      | 6810600    | 29.93361   | Wednesday  | Wednesday  | \n",
       "| 2014-05-08 | 30.55      | 30.81      | 30.41      | 30.48      | 2687200    | 29.76758   | Thursday   | Thursday   | \n",
       "\n",
       "\n"
      ],
      "text/plain": [
       "  Date       Open  High  Low   Close Volume  Adj.Close day       Day      \n",
       "1 2014-05-01 30.31 30.53 30.18 30.31 3207000 29.60156  Thursday  Thursday \n",
       "2 2014-05-02 30.32 30.75 30.30 30.64 3042100 29.92384  Friday    Friday   \n",
       "3 2014-05-05 30.42 30.63 30.11 30.53 4425200 29.81641  Monday    Monday   \n",
       "4 2014-05-06 29.85 31.39 29.56 30.89 6532400 30.16800  Tuesday   Tuesday  \n",
       "5 2014-05-07 30.10 30.74 30.00 30.65 6810600 29.93361  Wednesday Wednesday\n",
       "6 2014-05-08 30.55 30.81 30.41 30.48 2687200 29.76758  Thursday  Thursday "
      ]
     },
     "metadata": {},
     "output_type": "display_data"
    }
   ],
   "source": [
    "head(df)"
   ]
  },
  {
   "cell_type": "code",
   "execution_count": 22,
   "metadata": {
    "collapsed": true
   },
   "outputs": [],
   "source": [
    "L=c()\n",
    "k=1\n",
    "matw = matrix(0,length(filenames)-13,142)\n",
    "for(j in c(1:length(filenames))){\n",
    "    df = read.csv(filenames[j],header=TRUE, stringsAsFactors=FALSE)\n",
    "    df[\"Day\"]<-weekdays(as.Date(df[,1])) \n",
    "    df <- subset(df, Day=='Monday')\n",
    "    L[j] = dim(df)[1]\n",
    "    if(L[j]==143){\n",
    "        p = df[,5] \n",
    "        q = c()\n",
    "        r = c()\n",
    "        for(i in c(2:length(p))){\n",
    "            q[i-1] = (p[i]-p[i-1])/p[i-1]\n",
    "        }\n",
    "        r = log(1+q)\n",
    "        matw[k,] = r\n",
    "        k = k+1\n",
    "    }\n",
    "}"
   ]
  },
  {
   "cell_type": "code",
   "execution_count": 23,
   "metadata": {},
   "outputs": [
    {
     "data": {
      "text/html": [
       "<ol class=list-inline>\n",
       "\t<li>492</li>\n",
       "\t<li>3</li>\n",
       "</ol>\n"
      ],
      "text/latex": [
       "\\begin{enumerate*}\n",
       "\\item 492\n",
       "\\item 3\n",
       "\\end{enumerate*}\n"
      ],
      "text/markdown": [
       "1. 492\n",
       "2. 3\n",
       "\n",
       "\n"
      ],
      "text/plain": [
       "[1] 492   3"
      ]
     },
     "metadata": {},
     "output_type": "display_data"
    }
   ],
   "source": [
    "allcompw = read.csv(\"name_sector.csv\",header=TRUE,stringsAsFactors=FALSE)\n",
    "allcompw[\"length\"] = L\n",
    "ind = which(L!=143)\n",
    "allcompw <- allcompw[-ind,]\n",
    "dim(allcompw)"
   ]
  },
  {
   "cell_type": "code",
   "execution_count": 26,
   "metadata": {},
   "outputs": [
    {
     "name": "stderr",
     "output_type": "stream",
     "text": [
      "Warning message in character(0):\n",
      "\"closing unused connection 4 (edgelist-weekly.txt)\""
     ]
    }
   ],
   "source": [
    "conn <- file(\"edgelist-weekly.txt\", \"w\")\n",
    "getedgelist(conn,matw,allcompw)\n",
    "close(conn)"
   ]
  },
  {
   "cell_type": "code",
   "execution_count": 27,
   "metadata": {
    "collapsed": true
   },
   "outputs": [],
   "source": [
    "elistw <-read.delim(\"edgelist-weekly.txt\",header=TRUE)\n",
    "gw <- graph.data.frame(elistw, directed = FALSE)\n",
    "E(gw)$weight <- elistw[,\"wt\"]"
   ]
  },
  {
   "cell_type": "code",
   "execution_count": 29,
   "metadata": {},
   "outputs": [
    {
     "data": {
      "text/html": [
       "<ol class=list-inline>\n",
       "\t<li>120786</li>\n",
       "\t<li>3</li>\n",
       "</ol>\n"
      ],
      "text/latex": [
       "\\begin{enumerate*}\n",
       "\\item 120786\n",
       "\\item 3\n",
       "\\end{enumerate*}\n"
      ],
      "text/markdown": [
       "1. 120786\n",
       "2. 3\n",
       "\n",
       "\n"
      ],
      "text/plain": [
       "[1] 120786      3"
      ]
     },
     "metadata": {},
     "output_type": "display_data"
    }
   ],
   "source": [
    "dim(elistw)"
   ]
  },
  {
   "cell_type": "code",
   "execution_count": 28,
   "metadata": {
    "collapsed": true
   },
   "outputs": [],
   "source": [
    "mstw = mst(gw,algorithm=\"prim\")"
   ]
  },
  {
   "cell_type": "code",
   "execution_count": 29,
   "metadata": {
    "collapsed": true
   },
   "outputs": [],
   "source": [
    "allsectw = unique(allcompw[,2])\n",
    "colorsw = getcolorvector(gw,allsectw,allcompw)"
   ]
  },
  {
   "cell_type": "code",
   "execution_count": 30,
   "metadata": {},
   "outputs": [
    {
     "data": {
      "image/png": "[encoded data removed]",
      "text/plain": [
       "Plot with title \"\""
      ]
     },
     "metadata": {},
     "output_type": "display_data"
    }
   ],
   "source": [
    "plot(mstw,vertex.size=5, vertex.label=NA, vertex.color=colorsw)"
   ]
  },
  {
   "cell_type": "code",
   "execution_count": 31,
   "metadata": {
    "scrolled": true
   },
   "outputs": [
    {
     "data": {
      "image/png": "[encoded data removed]",
      "text/plain": [
       "Plot with title \"\""
      ]
     },
     "metadata": {},
     "output_type": "display_data"
    }
   ],
   "source": [
    "plot(mstw,vertex.size=5, vertex.label=NA, vertex.color=colorsw, layout=layout.reingold.tilford(mstw,circular=T))"
   ]
  },
  {
   "cell_type": "code",
   "execution_count": 43,
   "metadata": {},
   "outputs": [
    {
     "data": {
      "text/html": [
       "0.743957284810943"
      ],
      "text/latex": [
       "0.743957284810943"
      ],
      "text/markdown": [
       "0.743957284810943"
      ],
      "text/plain": [
       "[1] 0.7439573"
      ]
     },
     "metadata": {},
     "output_type": "display_data"
    },
    {
     "data": {
      "text/html": [
       "0.11470933306894"
      ],
      "text/latex": [
       "0.11470933306894"
      ],
      "text/markdown": [
       "0.11470933306894"
      ],
      "text/plain": [
       "[1] 0.1147093"
      ]
     },
     "metadata": {},
     "output_type": "display_data"
    }
   ],
   "source": [
    "p1 = c()\n",
    "p2 = c()\n",
    "for(v in c(1:vcount(mstw))){\n",
    "    neigh = neighbors(mstw,v)\n",
    "    Ni = length(neigh)\n",
    "    Qi=0\n",
    "    for(i in neigh){\n",
    "        if(allcompw[i,2]==allcompw[v,2])\n",
    "            Qi=Qi+1\n",
    "    }\n",
    "    p1[v] = Qi/Ni\n",
    "    p2[v] = counts[which(allsectw==allcompw[v,2])]/vcount(mstw)\n",
    "}\n",
    "alpha1 = sum(p1)/vcount(mstw)\n",
    "alpha1\n",
    "alpha2 = sum(p2)/vcount(mstw)\n",
    "alpha2"
   ]
  },
  {
   "cell_type": "code",
   "execution_count": null,
   "metadata": {
    "collapsed": true
   },
   "outputs": [],
   "source": []
  }
 ],
 "metadata": {
  "kernelspec": {
   "display_name": "R",
   "language": "R",
   "name": "ir"
  },
  "language_info": {
   "codemirror_mode": "r",
   "file_extension": ".r",
   "mimetype": "text/x-r-source",
   "name": "R",
   "pygments_lexer": "r",
   "version": "3.4.1"
  }
 },
 "nbformat": 4,
 "nbformat_minor": 2
}
