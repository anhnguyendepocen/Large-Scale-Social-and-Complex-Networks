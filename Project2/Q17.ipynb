{
 "cells": [
  {
   "cell_type": "code",
   "execution_count": 1,
   "metadata": {},
   "outputs": [],
   "source": [
    "options(warn=-1)"
   ]
  },
  {
   "cell_type": "code",
   "execution_count": 2,
   "metadata": {},
   "outputs": [
    {
     "name": "stderr",
     "output_type": "stream",
     "text": [
      "\n",
      "Attaching package: 'igraph'\n",
      "\n",
      "The following objects are masked from 'package:stats':\n",
      "\n",
      "    decompose, spectrum\n",
      "\n",
      "The following object is masked from 'package:base':\n",
      "\n",
      "    union\n",
      "\n"
     ]
    }
   ],
   "source": [
    "library('igraph')"
   ]
  },
  {
   "cell_type": "code",
   "execution_count": 3,
   "metadata": {},
   "outputs": [],
   "source": [
    "#1.4\n",
    "df <-read.table(\"C:/Sneha/Studies/UCLA/Classes/Q3Spring2018/EE232/Projects/Project2Code/data/facebook_combined.txt\",header=FALSE)\n",
    "g <- graph.data.frame(df, directed = FALSE)"
   ]
  },
  {
   "cell_type": "code",
   "execution_count": 4,
   "metadata": {},
   "outputs": [],
   "source": [
    "#Q16\n",
    "n415 = neighborhood(g, order=1, nodes='414')\n",
    "p415 = induced.subgraph(g, v=unlist(n415), impl=\"auto\")\n",
    "\n",
    "vertices = vertex_attr(p415)$name\n",
    "\n",
    "Nr=c()\n",
    "for(node in vertices) {\n",
    "    deg=degree(p415,node)\n",
    "    if(deg==24)\n",
    "    Nr<-c(Nr,node)\n",
    "}"
   ]
  },
  {
   "cell_type": "code",
   "execution_count": 5,
   "metadata": {},
   "outputs": [
    {
     "data": {
      "text/html": [
       "<ol class=list-inline>\n",
       "\t<li>'496'</li>\n",
       "\t<li>'578'</li>\n",
       "\t<li>'600'</li>\n",
       "\t<li>'615'</li>\n",
       "\t<li>'618'</li>\n",
       "\t<li>'627'</li>\n",
       "\t<li>'643'</li>\n",
       "\t<li>'658'</li>\n",
       "\t<li>'659'</li>\n",
       "\t<li>'661'</li>\n",
       "\t<li>'662'</li>\n",
       "</ol>\n"
      ],
      "text/latex": [
       "\\begin{enumerate*}\n",
       "\\item '496'\n",
       "\\item '578'\n",
       "\\item '600'\n",
       "\\item '615'\n",
       "\\item '618'\n",
       "\\item '627'\n",
       "\\item '643'\n",
       "\\item '658'\n",
       "\\item '659'\n",
       "\\item '661'\n",
       "\\item '662'\n",
       "\\end{enumerate*}\n"
      ],
      "text/markdown": [
       "1. '496'\n",
       "2. '578'\n",
       "3. '600'\n",
       "4. '615'\n",
       "5. '618'\n",
       "6. '627'\n",
       "7. '643'\n",
       "8. '658'\n",
       "9. '659'\n",
       "10. '661'\n",
       "11. '662'\n",
       "\n",
       "\n"
      ],
      "text/plain": [
       " [1] \"496\" \"578\" \"600\" \"615\" \"618\" \"627\" \"643\" \"658\" \"659\" \"661\" \"662\""
      ]
     },
     "metadata": {},
     "output_type": "display_data"
    }
   ],
   "source": [
    "Nr"
   ]
  },
  {
   "cell_type": "code",
   "execution_count": 9,
   "metadata": {},
   "outputs": [
    {
     "name": "stdout",
     "output_type": "stream",
     "text": [
      "[1] \"Mean accuracy by common neighbors: 0.833333333333333\"\n"
     ]
    }
   ],
   "source": [
    "#Common neighbors\n",
    "total_accuracy=c()\n",
    "for(node in Nr) {\n",
    "accuracy=0\n",
    "for(k in seq(1,10)) {\n",
    "    Si=neighbors(p415,node)\n",
    "    R1<-c()\n",
    "    r1<-sample(length(Si),6)\n",
    "    #print(R2_idx)\n",
    "    p415_new = p415\n",
    "    for(i in r1) {\n",
    "        #print(Si[i])\n",
    "        R1 <- c(R1,Si[i]$name)\n",
    "        e <- data.frame(\n",
    "            from = node,\n",
    "            to   = Si[i]$name\n",
    "        )\n",
    "        e <- apply(e, 1, paste, collapse=\"|\")\n",
    "        e <- edges(e)\n",
    "        p415_new <- p415_new - e\n",
    "    }\n",
    "\n",
    "    new_neighbors=neighbors(p415_new,node)\n",
    "    new=p415_new-unlist(new_neighbors)-node\n",
    "\n",
    "    vertices=vertex_attr(new)$name\n",
    "    #vertices\n",
    "    jlen=length(vertices)\n",
    "    #print(jlen)\n",
    "    measure <- list()\n",
    "    measure_vect <- c()\n",
    "    for(vName in vertices) {\n",
    "        Sj=neighbors(p415_new,vName)\n",
    "        mutualFriends=length(intersect(Si,Sj))\n",
    "        print(paste(\"Number of mutual friends for node\", Sj, \"=\",mutualFriends))\n",
    "        measure[[vName]] <-  mutualFriends\n",
    "    }\n",
    "    s=(measure[order(-unlist(measure))])\n",
    "    #print(s)\n",
    "\n",
    "    P1=list()\n",
    "    idx=1\n",
    "    for(i in seq(1,6)) {\n",
    "        P1[[idx]]=names(s)[i]\n",
    "        idx=idx+1\n",
    "    }\n",
    "    accuracy= accuracy+length(intersect(P1,R1))/6\n",
    "}\n",
    "#print(accuracy/10)\n",
    "total_accuracy=c(total_accuracy, accuracy/10)\n",
    "}\n",
    "print(paste(\"Mean accuracy by common neighbors:\",mean(total_accuracy)))"
   ]
  },
  {
   "cell_type": "code",
   "execution_count": 10,
   "metadata": {
    "scrolled": false
   },
   "outputs": [
    {
     "name": "stdout",
     "output_type": "stream",
     "text": [
      "[1] \"Mean accuracy by jaccard measure: 0.801515151515152\"\n"
     ]
    }
   ],
   "source": [
    "#Jaccard\n",
    "total_accuracy=c()\n",
    "for(node in Nr) {\n",
    "accuracy=0\n",
    "for(k in seq(1,10)) {\n",
    "    Si=neighbors(p415,node)\n",
    "    R1<-c()\n",
    "    r1<-sample(length(Si),6)\n",
    "    #print(R2_idx)\n",
    "    p415_new = p415\n",
    "    for(i in r1) {\n",
    "        #print(Si[i])\n",
    "        R1 <- c(R1,Si[i]$name)\n",
    "        e <- data.frame(\n",
    "            from = node,\n",
    "            to   = Si[i]$name\n",
    "        )\n",
    "        e <- apply(e, 1, paste, collapse=\"|\")\n",
    "        e <- edges(e)\n",
    "        p415_new <- p415_new - e\n",
    "    }\n",
    "\n",
    "    new_neighbors=neighbors(p415_new,node)\n",
    "    new=p415_new-unlist(new_neighbors)-node\n",
    "\n",
    "    vertices=vertex_attr(new)$name\n",
    "    #vertices\n",
    "    jlen=length(vertices)\n",
    "    #print(jlen)\n",
    "    measure <- list()\n",
    "    measure_vect <- c()\n",
    "    for(vName in vertices) {\n",
    "        Sj=neighbors(p415_new,vName)\n",
    "        jaccard_score=length(intersect(Si,Sj))/length(union(Si,Sj))\n",
    "        measure[[vName]] <-  jaccard_score\n",
    "    }\n",
    "    s=(measure[order(-unlist(measure))])\n",
    "\n",
    "    P1=list()\n",
    "    idx=1\n",
    "    for(i in seq(1,6)) {\n",
    "        P1[[idx]]=names(s)[i]\n",
    "        idx=idx+1\n",
    "    }\n",
    "    accuracy= accuracy+length(intersect(P1,R1))/6\n",
    "}\n",
    "#print(accuracy/10)\n",
    "total_accuracy=c(total_accuracy, accuracy/10)\n",
    "}\n",
    "print(paste(\"Mean accuracy by jaccard measure:\",mean(total_accuracy)))"
   ]
  },
  {
   "cell_type": "code",
   "execution_count": 6,
   "metadata": {},
   "outputs": [
    {
     "name": "stdout",
     "output_type": "stream",
     "text": [
      "[1] \"Mean accuracy by AdamicAdar measure: 0.845454545454545\"\n"
     ]
    }
   ],
   "source": [
    "#AdamicAdar\n",
    "total_accuracy=c()\n",
    "for(node in Nr) {\n",
    "accuracy=0\n",
    "for(k in seq(1,10)) {\n",
    "    Si=neighbors(p415,node)\n",
    "    R1<-c()\n",
    "    r1<-sample(length(Si),6)\n",
    "    #print(R2_idx)\n",
    "    p415_new = p415\n",
    "    for(i in r1) {\n",
    "        #print(Si[i])\n",
    "        R1 <- c(R1,Si[i]$name)\n",
    "        e <- data.frame(\n",
    "            from = node,\n",
    "            to   = Si[i]$name\n",
    "        )\n",
    "        e <- apply(e, 1, paste, collapse=\"|\")\n",
    "        e <- edges(e)\n",
    "        p415_new <- p415_new - e\n",
    "    }\n",
    "\n",
    "    new_neighbors=neighbors(p415_new,node)\n",
    "    new=p415_new-unlist(new_neighbors)-node\n",
    "\n",
    "    vertices=vertex_attr(new)$name\n",
    "    #vertices\n",
    "    jlen=length(vertices)\n",
    "    #print(jlen)\n",
    "    measure <- list()\n",
    "    measure_vect <- c()\n",
    "    for(vName in vertices) {\n",
    "        Sj=neighbors(p415_new,vName)\n",
    "        #AdamicAdar\n",
    "        k=intersect(Si,Sj)\n",
    "        total_score=0\n",
    "        for(person in k) {\n",
    "            n_list = length(neighbors(p415_new, person))\n",
    "            total_score = total_score + 1/log(n_list)        \n",
    "        }\n",
    "        \n",
    "        measure[[vName]] <-  total_score\n",
    "    }\n",
    "    s=(measure[order(-unlist(measure))])\n",
    "\n",
    "    P1=list()\n",
    "    idx=1\n",
    "    for(i in seq(1,6)) {\n",
    "        P1[[idx]]=names(s)[i]\n",
    "        idx=idx+1\n",
    "    }\n",
    "    accuracy= accuracy+length(intersect(P1,R1))/6\n",
    "}\n",
    "#print(accuracy/10)\n",
    "total_accuracy=c(total_accuracy, accuracy/10)\n",
    "}\n",
    "print(paste(\"Mean accuracy by AdamicAdar measure:\",mean(total_accuracy)))"
   ]
  },
  {
   "cell_type": "code",
   "execution_count": null,
   "metadata": {},
   "outputs": [],
   "source": []
  }
 ],
 "metadata": {
  "kernelspec": {
   "display_name": "R",
   "language": "R",
   "name": "ir"
  },
  "language_info": {
   "codemirror_mode": "r",
   "file_extension": ".r",
   "mimetype": "text/x-r-source",
   "name": "R",
   "pygments_lexer": "r",
   "version": "3.4.3"
  }
 },
 "nbformat": 4,
 "nbformat_minor": 2
}
